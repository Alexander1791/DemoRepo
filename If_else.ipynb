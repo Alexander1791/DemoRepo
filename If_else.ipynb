{
  "nbformat": 4,
  "nbformat_minor": 0,
  "metadata": {
    "colab": {
      "provenance": [],
      "authorship_tag": "ABX9TyProINFGA/hfZQ+KPxPylm7",
      "include_colab_link": true
    },
    "kernelspec": {
      "name": "python3",
      "display_name": "Python 3"
    },
    "language_info": {
      "name": "python"
    }
  },
  "cells": [
    {
      "cell_type": "markdown",
      "metadata": {
        "id": "view-in-github",
        "colab_type": "text"
      },
      "source": [
        "<a href=\"https://colab.research.google.com/github/Alexander1791/DemoRepo/blob/main/If_else.ipynb\" target=\"_parent\"><img src=\"https://colab.research.google.com/assets/colab-badge.svg\" alt=\"Open In Colab\"/></a>"
      ]
    },
    {
      "cell_type": "code",
      "execution_count": 3,
      "metadata": {
        "colab": {
          "base_uri": "https://localhost:8080/"
        },
        "id": "oP7CMa3tNkZ4",
        "outputId": "27516389-e1b8-4e1a-b8ef-3f07d34e0efa"
      },
      "outputs": [
        {
          "output_type": "stream",
          "name": "stdout",
          "text": [
            "Hello Acosta\n"
          ]
        }
      ],
      "source": [
        "Firstname = \"Tony\"\n",
        "LastName = \"Acosta\"\n",
        "LenghtFisrt = len(Firstname)\n",
        "LenghtLast = len(LastName)\n",
        "\n",
        "if (LenghtFisrt == LenghtLast):\n",
        "  print(\"Hello \" + Firstname + \" \" + LastName)\n",
        "else:\n",
        "  if (LenghtFisrt > LenghtLast):\n",
        "    print(\"Hello \" + Firstname)\n",
        "  else:\n",
        "    print(\"Hello \" + LastName)"
      ]
    }
  ]
}