{
  "nbformat": 4,
  "nbformat_minor": 0,
  "metadata": {
    "colab": {
      "provenance": [],
      "authorship_tag": "ABX9TyPGtfWmuxnCjotqI3l7SQml",
      "include_colab_link": true
    },
    "kernelspec": {
      "name": "python3",
      "display_name": "Python 3"
    },
    "language_info": {
      "name": "python"
    }
  },
  "cells": [
    {
      "cell_type": "markdown",
      "metadata": {
        "id": "view-in-github",
        "colab_type": "text"
      },
      "source": [
        "<a href=\"https://colab.research.google.com/github/Alexander1791/DemoRepo/blob/main/Activiti.ipynb\" target=\"_parent\"><img src=\"https://colab.research.google.com/assets/colab-badge.svg\" alt=\"Open In Colab\"/></a>"
      ]
    },
    {
      "cell_type": "code",
      "execution_count": 1,
      "metadata": {
        "colab": {
          "base_uri": "https://localhost:8080/"
        },
        "id": "mi9WSqokBdJk",
        "outputId": "2ec923ab-f4b6-459d-bc9e-e2f3cfa291bc"
      },
      "outputs": [
        {
          "output_type": "stream",
          "name": "stdout",
          "text": [
            "Enter your name: \n",
            " Ale\n",
            "Enter your country: \n",
            " Mexico\n",
            "Enter your School: \n",
            " CCTB\n",
            "Enter your school location: \n",
            " Vancouver\n",
            "My name is Ale from Mexico studying at CCTB in Vancouver\n"
          ]
        }
      ],
      "source": [
        "print(\"Enter your name: \")\n",
        "x = input(\" \")\n",
        "print(\"Enter your country: \")\n",
        "y = input(\" \")\n",
        "print(\"Enter your School: \")\n",
        "z = input(\" \")\n",
        "print(\"Enter your school location: \")\n",
        "a = input(\" \")\n",
        "print(f\"My name is {x} from {y} studying at {z} in {a}\")\n"
      ]
    }
  ]
}