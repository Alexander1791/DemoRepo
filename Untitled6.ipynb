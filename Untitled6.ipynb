{
  "nbformat": 4,
  "nbformat_minor": 0,
  "metadata": {
    "colab": {
      "provenance": [],
      "authorship_tag": "ABX9TyMBLs5N8QWx+jdEOxEhsJXH",
      "include_colab_link": true
    },
    "kernelspec": {
      "name": "python3",
      "display_name": "Python 3"
    },
    "language_info": {
      "name": "python"
    }
  },
  "cells": [
    {
      "cell_type": "markdown",
      "metadata": {
        "id": "view-in-github",
        "colab_type": "text"
      },
      "source": [
        "<a href=\"https://colab.research.google.com/github/Alexander1791/DemoRepo/blob/main/Untitled6.ipynb\" target=\"_parent\"><img src=\"https://colab.research.google.com/assets/colab-badge.svg\" alt=\"Open In Colab\"/></a>"
      ]
    },
    {
      "cell_type": "code",
      "execution_count": 3,
      "metadata": {
        "colab": {
          "base_uri": "https://localhost:8080/"
        },
        "id": "mi9WSqokBdJk",
        "outputId": "2f46abe9-af5e-499d-8a06-79858dd08dce"
      },
      "outputs": [
        {
          "output_type": "stream",
          "name": "stdout",
          "text": [
            "Enter your name:  Ale\n",
            "Enter your country: MEx\n",
            "Enter your School: CCTB\n",
            "Enter your school location: Vanco\n",
            "My name is Ale from MEx studying at CCTB in Vanco\n"
          ]
        }
      ],
      "source": [
        "x = input(\"Enter your name:  \")\n",
        "y = input(\"Enter your country: \")\n",
        "z = input(\"Enter your School: \")\n",
        "a = input(\"Enter your school location: \")\n",
        "print(f\"My name is {x} from {y} studying at {z} in {a}\")\n"
      ]
    }
  ]
}