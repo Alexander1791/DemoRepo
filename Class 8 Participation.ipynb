{
  "nbformat": 4,
  "nbformat_minor": 0,
  "metadata": {
    "colab": {
      "provenance": [],
      "authorship_tag": "ABX9TyOlgnbd2bXkHiF/19yVSa+J",
      "include_colab_link": true
    },
    "kernelspec": {
      "name": "python3",
      "display_name": "Python 3"
    },
    "language_info": {
      "name": "python"
    }
  },
  "cells": [
    {
      "cell_type": "markdown",
      "metadata": {
        "id": "view-in-github",
        "colab_type": "text"
      },
      "source": [
        "<a href=\"https://colab.research.google.com/github/Alexander1791/DemoRepo/blob/main/Class%208%20Participation.ipynb\" target=\"_parent\"><img src=\"https://colab.research.google.com/assets/colab-badge.svg\" alt=\"Open In Colab\"/></a>"
      ]
    },
    {
      "cell_type": "code",
      "execution_count": 15,
      "metadata": {
        "colab": {
          "base_uri": "https://localhost:8080/"
        },
        "id": "LunhiNNZW9BL",
        "outputId": "9474aa78-ed06-48c8-93a2-279301af4a0f"
      },
      "outputs": [
        {
          "output_type": "stream",
          "name": "stdout",
          "text": [
            "{10: 2, 40: 1, 50: 1, 14: 1}\n"
          ]
        }
      ],
      "source": [
        "def counts (numbers):\n",
        "  count = {}\n",
        "  for x in numbers:\n",
        "    if x in count:\n",
        "      count[x] +=1\n",
        "    else:\n",
        "      count[x] = 1\n",
        "  return count\n",
        "\n",
        "numbers = [10,40,50,14,10]\n",
        "print(counts(numbers))"
      ]
    }
  ]
}