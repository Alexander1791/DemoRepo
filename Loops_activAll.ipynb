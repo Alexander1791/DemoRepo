{
  "nbformat": 4,
  "nbformat_minor": 0,
  "metadata": {
    "colab": {
      "provenance": [],
      "authorship_tag": "ABX9TyP2muJr/EtfZ0fbc8eLKi4u",
      "include_colab_link": true
    },
    "kernelspec": {
      "name": "python3",
      "display_name": "Python 3"
    },
    "language_info": {
      "name": "python"
    }
  },
  "cells": [
    {
      "cell_type": "markdown",
      "metadata": {
        "id": "view-in-github",
        "colab_type": "text"
      },
      "source": [
        "<a href=\"https://colab.research.google.com/github/Alexander1791/DemoRepo/blob/main/Loops_activAll.ipynb\" target=\"_parent\"><img src=\"https://colab.research.google.com/assets/colab-badge.svg\" alt=\"Open In Colab\"/></a>"
      ]
    },
    {
      "cell_type": "code",
      "execution_count": 1,
      "metadata": {
        "colab": {
          "base_uri": "https://localhost:8080/"
        },
        "id": "fGtIXwVrQ1mz",
        "outputId": "0fbbe8ef-d1cc-4cf1-ddc9-558544a9c541"
      },
      "outputs": [
        {
          "output_type": "stream",
          "name": "stdout",
          "text": [
            "It is a Leap year: 1996\n",
            "It is not Leap year 1999\n"
          ]
        }
      ],
      "source": [
        "#With this code we can know which is a leap year from all the years in the list years\n",
        "Annie = 1996\n",
        "Jane = 1999\n",
        "\n",
        "years = [Annie, Jane]\n",
        "\n",
        "for year in years:\n",
        "    if (year % 4 == 0):\n",
        "        print(f\"It is a Leap year: {year}\")\n",
        "    else:\n",
        "        print (f\"It is not Leap year {year}\")\n",
        "\n"
      ]
    },
    {
      "cell_type": "code",
      "source": [
        "#With this program we can know what each child is entitled to for lunch, that they meet the age range\n",
        "Edge = int(input(\"What is your age? \"))\n",
        "if (Edge <= 9):\n",
        "    print(\"Here is your Milk porridge\")\n",
        "elif (Edge > 9) and (Edge < 15):\n",
        "    print(\"Here is your sandwich\")\n",
        "elif (Edge > 15) and (Edge < 18):\n",
        "    print(\"Here is your Burger\")\n",
        "else:\n",
        "    print(\"You are not a kid\")"
      ],
      "metadata": {
        "colab": {
          "base_uri": "https://localhost:8080/"
        },
        "id": "JJhJoCUYQ_7E",
        "outputId": "5efed504-b5e9-4f4a-fd42-48ad8c4cb924"
      },
      "execution_count": 2,
      "outputs": [
        {
          "output_type": "stream",
          "name": "stdout",
          "text": [
            "What is your age? 10\n",
            "Here is your sandwich\n"
          ]
        }
      ]
    },
    {
      "cell_type": "code",
      "source": [
        "for x in range(-4,5):\n",
        "    print(x)"
      ],
      "metadata": {
        "colab": {
          "base_uri": "https://localhost:8080/"
        },
        "id": "n5mx-19VRC_Y",
        "outputId": "55ee2773-f23e-4356-b749-49c51340ce7d"
      },
      "execution_count": 3,
      "outputs": [
        {
          "output_type": "stream",
          "name": "stdout",
          "text": [
            "-4\n",
            "-3\n",
            "-2\n",
            "-1\n",
            "0\n",
            "1\n",
            "2\n",
            "3\n",
            "4\n"
          ]
        }
      ]
    },
    {
      "cell_type": "code",
      "source": [
        "Genres=[ 'rock', 'R&B', 'Soundtrack', 'R&B', 'soul', 'pop']\n",
        "for x in range(0,6):\n",
        "  print(Genres[x])"
      ],
      "metadata": {
        "colab": {
          "base_uri": "https://localhost:8080/"
        },
        "id": "KBtvpM-nRJRs",
        "outputId": "93425082-3092-496e-b98f-b9cc4856a44a"
      },
      "execution_count": 4,
      "outputs": [
        {
          "output_type": "stream",
          "name": "stdout",
          "text": [
            "rock\n",
            "R&B\n",
            "Soundtrack\n",
            "R&B\n",
            "soul\n",
            "pop\n"
          ]
        }
      ]
    },
    {
      "cell_type": "code",
      "source": [
        "squares=['red', 'yellow', 'green', 'purple', 'blue']\n",
        "for x in range(0,5):\n",
        "  print(squares[x])"
      ],
      "metadata": {
        "colab": {
          "base_uri": "https://localhost:8080/"
        },
        "id": "O16eBNx3RL95",
        "outputId": "78481d0f-d83c-4f98-b1a7-bfda73c15d6e"
      },
      "execution_count": 5,
      "outputs": [
        {
          "output_type": "stream",
          "name": "stdout",
          "text": [
            "red\n",
            "yellow\n",
            "green\n",
            "purple\n",
            "blue\n"
          ]
        }
      ]
    },
    {
      "cell_type": "code",
      "source": [
        "PlayListRatings = [10, 9.5, 10, 8, 7.5, 5, 10, 10]\n",
        "\n",
        "x=0\n",
        "MinRating = 6\n",
        "Rating = PlayListRatings[0]\n",
        "\n",
        "while (Rating >= 6):\n",
        "  print(Rating)\n",
        "  x = x+1\n",
        "  Rating = PlayListRatings[x]"
      ],
      "metadata": {
        "colab": {
          "base_uri": "https://localhost:8080/"
        },
        "id": "Oz1LFe4XRP8M",
        "outputId": "5145b889-26ed-4df0-8b68-c81fdfa8b999"
      },
      "execution_count": 6,
      "outputs": [
        {
          "output_type": "stream",
          "name": "stdout",
          "text": [
            "10\n",
            "9.5\n",
            "10\n",
            "8\n",
            "7.5\n"
          ]
        }
      ]
    },
    {
      "cell_type": "code",
      "source": [
        "squares = ['orange', 'orange', 'purple', 'blue', 'orange']\n",
        "new_squares = []\n",
        "\n",
        "i = 0\n",
        "\n",
        "while (i < len(squares)) and (squares[i] == 'orange'):\n",
        "    new_squares.append(squares[i])\n",
        "    i += 1\n",
        "\n",
        "print(new_squares)"
      ],
      "metadata": {
        "colab": {
          "base_uri": "https://localhost:8080/"
        },
        "id": "_SPHRGkZRRNS",
        "outputId": "ac61d2f8-1349-46b1-ef3d-296d2e9210de"
      },
      "execution_count": 7,
      "outputs": [
        {
          "output_type": "stream",
          "name": "stdout",
          "text": [
            "['orange', 'orange']\n"
          ]
        }
      ]
    },
    {
      "cell_type": "code",
      "source": [
        "print(\"Table of 6\")\n",
        "a = 1\n",
        "for x in range(1,11):\n",
        "  x = x*6\n",
        "  print(\"6 x \", a, \"= \", x)\n",
        "  a = a+1\n",
        "print(\"Table of 7\")\n",
        "a = 1\n",
        "for x in range(1,11):\n",
        "  x = x*7\n",
        "  print(\"7 x \", a, \"= \", x)\n",
        "  a = a+1"
      ],
      "metadata": {
        "colab": {
          "base_uri": "https://localhost:8080/"
        },
        "id": "bBl6jG7PRVkj",
        "outputId": "ccb65a81-ee85-4069-e690-95ffc1a64f0e"
      },
      "execution_count": 8,
      "outputs": [
        {
          "output_type": "stream",
          "name": "stdout",
          "text": [
            "Table of 6\n",
            "6 x  1 =  6\n",
            "6 x  2 =  12\n",
            "6 x  3 =  18\n",
            "6 x  4 =  24\n",
            "6 x  5 =  30\n",
            "6 x  6 =  36\n",
            "6 x  7 =  42\n",
            "6 x  8 =  48\n",
            "6 x  9 =  54\n",
            "6 x  10 =  60\n",
            "Table of 7\n",
            "7 x  1 =  7\n",
            "7 x  2 =  14\n",
            "7 x  3 =  21\n",
            "7 x  4 =  28\n",
            "7 x  5 =  35\n",
            "7 x  6 =  42\n",
            "7 x  7 =  49\n",
            "7 x  8 =  56\n",
            "7 x  9 =  63\n",
            "7 x  10 =  70\n"
          ]
        }
      ]
    }
  ]
}