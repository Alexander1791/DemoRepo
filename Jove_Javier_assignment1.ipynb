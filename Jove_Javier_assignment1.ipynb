{
  "nbformat": 4,
  "nbformat_minor": 0,
  "metadata": {
    "colab": {
      "provenance": [],
      "authorship_tag": "ABX9TyOEgq1NIZ8yd2ms9pJXYoq2",
      "include_colab_link": true
    },
    "kernelspec": {
      "name": "python3",
      "display_name": "Python 3"
    },
    "language_info": {
      "name": "python"
    }
  },
  "cells": [
    {
      "cell_type": "markdown",
      "metadata": {
        "id": "view-in-github",
        "colab_type": "text"
      },
      "source": [
        "<a href=\"https://colab.research.google.com/github/Alexander1791/DemoRepo/blob/main/Jove_Javier_assignment1.ipynb\" target=\"_parent\"><img src=\"https://colab.research.google.com/assets/colab-badge.svg\" alt=\"Open In Colab\"/></a>"
      ]
    },
    {
      "cell_type": "code",
      "execution_count": 2,
      "metadata": {
        "colab": {
          "base_uri": "https://localhost:8080/"
        },
        "id": "-mvgWUnl8BJf",
        "outputId": "7fbc0d31-33d5-4257-f38a-49115d88fabf"
      },
      "outputs": [
        {
          "output_type": "stream",
          "name": "stdout",
          "text": [
            "Provide 1rs numbers: 2\n",
            "2do number: 2\n",
            "Result: \n",
            "Sum is: 4.0 \n",
            "Multiplication is: 4.0 \n",
            "Division is: 1.0\n"
          ]
        }
      ],
      "source": [
        "a=float(input(\"Provide 1rs numbers: \"))\n",
        "b=float(input(\"2do number: \"))\n",
        "\n",
        "print(f\"Result: \\nSum is: {a+b} \\nMultiplication is: {a*b} \\nDivision is: {a/b}\")"
      ]
    },
    {
      "cell_type": "code",
      "source": [
        "a=int(input(\"Enter the number of days: \"))\n",
        "\n",
        "print(f\"{a} days have {a*86400}\")"
      ],
      "metadata": {
        "colab": {
          "base_uri": "https://localhost:8080/"
        },
        "id": "9hQ-SpB_8mJe",
        "outputId": "4df60b08-e2ad-4c99-cecd-9818ee8fcffd"
      },
      "execution_count": 3,
      "outputs": [
        {
          "output_type": "stream",
          "name": "stdout",
          "text": [
            "Enter the number of days: 45\n",
            "45 days have 3888000\n"
          ]
        }
      ]
    }
  ]
}