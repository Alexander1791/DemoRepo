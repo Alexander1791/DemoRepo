{
  "nbformat": 4,
  "nbformat_minor": 0,
  "metadata": {
    "colab": {
      "provenance": [],
      "authorship_tag": "ABX9TyPTJ3dZMCkX4Vqix5WIKNYk",
      "include_colab_link": true
    },
    "kernelspec": {
      "name": "python3",
      "display_name": "Python 3"
    },
    "language_info": {
      "name": "python"
    }
  },
  "cells": [
    {
      "cell_type": "markdown",
      "metadata": {
        "id": "view-in-github",
        "colab_type": "text"
      },
      "source": [
        "<a href=\"https://colab.research.google.com/github/Alexander1791/DemoRepo/blob/main/Functions%20Video%20%26%20Lab%20-%20Assignment.ipynb\" target=\"_parent\"><img src=\"https://colab.research.google.com/assets/colab-badge.svg\" alt=\"Open In Colab\"/></a>"
      ]
    },
    {
      "cell_type": "markdown",
      "source": [
        "Complete the function  f  so that it returns the product of a and b. Use the next cell to test the function."
      ],
      "metadata": {
        "id": "p9O3vsvqbo5W"
      }
    },
    {
      "cell_type": "code",
      "execution_count": 7,
      "metadata": {
        "colab": {
          "base_uri": "https://localhost:8080/"
        },
        "id": "4i923g3mZ45d",
        "outputId": "062bec0a-0301-41d8-e6aa-99bd3f2435e0"
      },
      "outputs": [
        {
          "output_type": "stream",
          "name": "stdout",
          "text": [
            "Correct.\n"
          ]
        }
      ],
      "source": [
        "def f(a,b):\n",
        "    return a*b\n",
        "\n",
        "a=45\n",
        "b=28\n",
        "\n",
        "f(a,b)\n",
        "\n",
        "if a*b==f(a,b):\n",
        "    print(\"Correct.\")\n",
        "else:\n",
        "    print(\"Incorrect.\")"
      ]
    },
    {
      "cell_type": "code",
      "source": [
        "def g(c):\n",
        "    return sum(c)\n",
        "\n",
        "c=[1,2,3,4,5]\n",
        "\n",
        "if sum(c)==g(c):\n",
        "    print(\"Correct.\")\n",
        "else:\n",
        "    print(\"Incorrect.\")"
      ],
      "metadata": {
        "colab": {
          "base_uri": "https://localhost:8080/"
        },
        "id": "lj2I8kD1gPoH",
        "outputId": "1e146a32-c602-47da-9006-191c3002a5c9"
      },
      "execution_count": 6,
      "outputs": [
        {
          "output_type": "stream",
          "name": "stdout",
          "text": [
            "Correct.\n"
          ]
        }
      ]
    },
    {
      "cell_type": "markdown",
      "source": [
        "Come up with a function that divides the first input by the second input:"
      ],
      "metadata": {
        "id": "DmP5S6tuhJAl"
      }
    },
    {
      "cell_type": "code",
      "source": [
        "def f(a,b):\n",
        "  return (a/b)\n",
        "f(10,2)"
      ],
      "metadata": {
        "colab": {
          "base_uri": "https://localhost:8080/"
        },
        "id": "LzLV8B6vhJlW",
        "outputId": "2298bbe6-3750-4255-943d-76cb90e76250"
      },
      "execution_count": 11,
      "outputs": [
        {
          "output_type": "execute_result",
          "data": {
            "text/plain": [
              "5.0"
            ]
          },
          "metadata": {},
          "execution_count": 11
        }
      ]
    },
    {
      "cell_type": "markdown",
      "source": [
        "Can the con function we defined before be used to add two integers or strings? Can the con function we defined before be used to concatenate lists or tuples?"
      ],
      "metadata": {
        "id": "9m95mYVSh3qX"
      }
    },
    {
      "cell_type": "code",
      "source": [
        "def con(a, b):\n",
        "    return(a + b)\n",
        "# Yes, for example:\n",
        "con(4,4)\n",
        "con(['a',3],[4,'b'])"
      ],
      "metadata": {
        "colab": {
          "base_uri": "https://localhost:8080/"
        },
        "id": "lKlxGAlNh3Ao",
        "outputId": "3fe71eb5-f899-4063-9a95-ea6a8bc2cfd5"
      },
      "execution_count": 13,
      "outputs": [
        {
          "output_type": "execute_result",
          "data": {
            "text/plain": [
              "['a', 3, 4, 'b']"
            ]
          },
          "metadata": {},
          "execution_count": 13
        }
      ]
    },
    {
      "cell_type": "markdown",
      "source": [
        "Write a function code to find total count of word little in the given string: \"Mary had a little lamb Little lamb, little lamb Mary had a little lamb.Its fleece was white as snow And everywhere that Mary went Mary went, Mary went Everywhere that Mary went The lamb was sure to go\""
      ],
      "metadata": {
        "id": "Ze8cGfEPjNKJ"
      }
    },
    {
      "cell_type": "code",
      "source": [
        "def Cont(text,word):\n",
        "    count=0\n",
        "    for i in text.split():\n",
        "        if i==word:\n",
        "            count+=1\n",
        "    return count\n",
        "text=\"Mary had a little lamb Little lamb, little lamb Mary had a little lamb.Its fleece was white as snow And everywhere that Mary went Mary went, Mary went Everywhere that Mary went The lamb was sure to go\"\n",
        "text=text.lower()\n",
        "word=\"little\"\n",
        "Cont(text,word)"
      ],
      "metadata": {
        "colab": {
          "base_uri": "https://localhost:8080/"
        },
        "id": "yWwfkmk7jPQI",
        "outputId": "2122f1a5-fcda-41f6-895b-22697477a6b3"
      },
      "execution_count": 24,
      "outputs": [
        {
          "output_type": "execute_result",
          "data": {
            "text/plain": [
              "4"
            ]
          },
          "metadata": {},
          "execution_count": 24
        }
      ]
    }
  ]
}