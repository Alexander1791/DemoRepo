{
  "nbformat": 4,
  "nbformat_minor": 0,
  "metadata": {
    "colab": {
      "provenance": [],
      "authorship_tag": "ABX9TyOxSltpYF1xqLr/2JU2DGnP",
      "include_colab_link": true
    },
    "kernelspec": {
      "name": "python3",
      "display_name": "Python 3"
    },
    "language_info": {
      "name": "python"
    }
  },
  "cells": [
    {
      "cell_type": "markdown",
      "metadata": {
        "id": "view-in-github",
        "colab_type": "text"
      },
      "source": [
        "<a href=\"https://colab.research.google.com/github/Alexander1791/DemoRepo/blob/main/Loops_Activ2.ipynb\" target=\"_parent\"><img src=\"https://colab.research.google.com/assets/colab-badge.svg\" alt=\"Open In Colab\"/></a>"
      ]
    },
    {
      "cell_type": "code",
      "execution_count": 2,
      "metadata": {
        "colab": {
          "base_uri": "https://localhost:8080/"
        },
        "id": "zz9CTayjIfum",
        "outputId": "946021ca-33bb-4610-87a4-7b1eb37cb728"
      },
      "outputs": [
        {
          "output_type": "stream",
          "name": "stdout",
          "text": [
            "-4\n",
            "-3\n",
            "-2\n",
            "-1\n",
            "0\n",
            "1\n",
            "2\n",
            "3\n",
            "4\n"
          ]
        }
      ],
      "source": [
        "for x in range(-4,5):\n",
        "    print(x)"
      ]
    },
    {
      "cell_type": "code",
      "source": [
        "Genres=[ 'rock', 'R&B', 'Soundtrack', 'R&B', 'soul', 'pop']\n",
        "for x in range(0,6):\n",
        "  print(Genres[x])"
      ],
      "metadata": {
        "colab": {
          "base_uri": "https://localhost:8080/"
        },
        "id": "PA81JAMSIgqO",
        "outputId": "241323ee-6aa4-4318-cba3-d71f70a603ac"
      },
      "execution_count": 7,
      "outputs": [
        {
          "output_type": "stream",
          "name": "stdout",
          "text": [
            "rock\n",
            "R&B\n",
            "Soundtrack\n",
            "R&B\n",
            "soul\n",
            "pop\n"
          ]
        }
      ]
    },
    {
      "cell_type": "code",
      "source": [
        "squares=['red', 'yellow', 'green', 'purple', 'blue']\n",
        "for x in range(0,5):\n",
        "  print(squares[x])"
      ],
      "metadata": {
        "colab": {
          "base_uri": "https://localhost:8080/"
        },
        "id": "47SRTfLzKKOC",
        "outputId": "dd5bfaf4-695b-447b-f110-b1d134568cdd"
      },
      "execution_count": 8,
      "outputs": [
        {
          "output_type": "stream",
          "name": "stdout",
          "text": [
            "red\n",
            "yellow\n",
            "green\n",
            "purple\n",
            "blue\n"
          ]
        }
      ]
    },
    {
      "cell_type": "code",
      "source": [
        "PlayListRatings = [10, 9.5, 10, 8, 7.5, 5, 10, 10]\n",
        "\n",
        "x=0\n",
        "MinRating = 6\n",
        "Rating = PlayListRatings[0]\n",
        "\n",
        "while (Rating >= 6):\n",
        "  print(Rating)\n",
        "  x = x+1\n",
        "  Rating = PlayListRatings[x]"
      ],
      "metadata": {
        "colab": {
          "base_uri": "https://localhost:8080/"
        },
        "id": "8u0DPa8kKwQ7",
        "outputId": "db013e7f-b3ed-4ffb-88da-1fccef630a31"
      },
      "execution_count": 10,
      "outputs": [
        {
          "output_type": "stream",
          "name": "stdout",
          "text": [
            "10\n",
            "9.5\n",
            "10\n",
            "8\n",
            "7.5\n"
          ]
        }
      ]
    },
    {
      "cell_type": "code",
      "source": [
        "squares = ['orange', 'orange', 'purple', 'blue', 'orange']\n",
        "new_squares = []\n",
        "\n",
        "i = 0\n",
        "\n",
        "while (i < len(squares)) and (squares[i] == 'orange'):\n",
        "    new_squares.append(squares[i])\n",
        "    i += 1\n",
        "\n",
        "print(new_squares)"
      ],
      "metadata": {
        "colab": {
          "base_uri": "https://localhost:8080/"
        },
        "id": "z_lmasCWORhn",
        "outputId": "3361119d-a210-4acd-f0a7-36c09f51adba"
      },
      "execution_count": 11,
      "outputs": [
        {
          "output_type": "stream",
          "name": "stdout",
          "text": [
            "['orange', 'orange']\n"
          ]
        }
      ]
    },
    {
      "cell_type": "code",
      "source": [
        "print(\"Table of 6\")\n",
        "a = 1\n",
        "for x in range(1,11):\n",
        "  x = x*6\n",
        "  print(\"6 x \", a, \"= \", x)\n",
        "  a = a+1\n",
        "print(\"Table of 7\")\n",
        "a = 1\n",
        "for x in range(1,11):\n",
        "  x = x*7\n",
        "  print(\"7 x \", a, \"= \", x)\n",
        "  a = a+1\n"
      ],
      "metadata": {
        "colab": {
          "base_uri": "https://localhost:8080/"
        },
        "id": "yLq-g3LhOqdr",
        "outputId": "17b5d574-ffc1-459f-d765-a9557b9a425a"
      },
      "execution_count": 18,
      "outputs": [
        {
          "output_type": "stream",
          "name": "stdout",
          "text": [
            "Table of 6\n",
            "6 x  1 =  6\n",
            "6 x  2 =  12\n",
            "6 x  3 =  18\n",
            "6 x  4 =  24\n",
            "6 x  5 =  30\n",
            "6 x  6 =  36\n",
            "6 x  7 =  42\n",
            "6 x  8 =  48\n",
            "6 x  9 =  54\n",
            "6 x  10 =  60\n",
            "Table of 7\n",
            "7 x  1 =  7\n",
            "7 x  2 =  14\n",
            "7 x  3 =  21\n",
            "7 x  4 =  28\n",
            "7 x  5 =  35\n",
            "7 x  6 =  42\n",
            "7 x  7 =  49\n",
            "7 x  8 =  56\n",
            "7 x  9 =  63\n",
            "7 x  10 =  70\n"
          ]
        }
      ]
    }
  ]
}