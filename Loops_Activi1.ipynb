{
  "nbformat": 4,
  "nbformat_minor": 0,
  "metadata": {
    "colab": {
      "provenance": [],
      "authorship_tag": "ABX9TyNbNzOGpo4cBSeVJaSjtU8u",
      "include_colab_link": true
    },
    "kernelspec": {
      "name": "python3",
      "display_name": "Python 3"
    },
    "language_info": {
      "name": "python"
    }
  },
  "cells": [
    {
      "cell_type": "markdown",
      "metadata": {
        "id": "view-in-github",
        "colab_type": "text"
      },
      "source": [
        "<a href=\"https://colab.research.google.com/github/Alexander1791/DemoRepo/blob/main/Loops_Activi1.ipynb\" target=\"_parent\"><img src=\"https://colab.research.google.com/assets/colab-badge.svg\" alt=\"Open In Colab\"/></a>"
      ]
    },
    {
      "cell_type": "code",
      "execution_count": 4,
      "metadata": {
        "colab": {
          "base_uri": "https://localhost:8080/"
        },
        "id": "0aB9DsYP9DJT",
        "outputId": "d8d018af-1a1e-41e9-b49e-f813b6a39173"
      },
      "outputs": [
        {
          "output_type": "stream",
          "name": "stdout",
          "text": [
            "It is a Leap year: 1996\n",
            "It is not Leap year 1999\n"
          ]
        }
      ],
      "source": [
        "#With this code we can know which is a leap year from all the years in the list years\n",
        "Annie = 1996\n",
        "Jane = 1999\n",
        "\n",
        "years = [Annie, Jane]\n",
        "\n",
        "for year in years:\n",
        "    if (year % 4 == 0):\n",
        "        print(f\"It is a Leap year: {year}\")\n",
        "    else:\n",
        "        print (f\"It is not Leap year {year}\")\n",
        "\n"
      ]
    },
    {
      "cell_type": "code",
      "source": [
        "#With this program we can know what each child is entitled to for lunch, that they meet the age range\n",
        "Edge = int(input(\"What is your age? \"))\n",
        "if (Edge <= 9):\n",
        "    print(\"Here is your Milk porridge\")\n",
        "elif (Edge > 9) and (Edge < 15):\n",
        "    print(\"Here is your sandwich\")\n",
        "elif (Edge > 15) and (Edge < 18):\n",
        "    print(\"Here is your Burger\")\n",
        "else:\n",
        "    print(\"You are not a kid\")"
      ],
      "metadata": {
        "colab": {
          "base_uri": "https://localhost:8080/"
        },
        "id": "K-7SD7IpDzna",
        "outputId": "b88cc553-e80c-458a-f8b0-cf17e0291da3"
      },
      "execution_count": 14,
      "outputs": [
        {
          "output_type": "stream",
          "name": "stdout",
          "text": [
            "What is your age? 10\n",
            "Here is your sandwich\n"
          ]
        }
      ]
    }
  ]
}